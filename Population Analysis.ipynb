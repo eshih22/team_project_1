{
 "cells": [
  {
   "cell_type": "code",
   "execution_count": null,
   "id": "cd2822b5",
   "metadata": {},
   "outputs": [],
   "source": [
    "import requests\n",
    "import pandas as pd\n",
    "\n",
    "# Replace 'YOUR_API_KEY' with your actual Census API key\n",
    "\n",
    "\n",
    "# Specify the dataset and variables\n",
    "dataset = 'acs/acs5'  # American Community Survey 5-Year Estimates\n",
    "get_vars = 'NAME,B01001_001E'  # Variable for total population (B01001_001E)\n",
    "\n",
    "# California's FIPS code\n",
    "for_state = '06'\n",
    "\n",
    "# Years range from 2015 to 2022\n",
    "years = range(2015, 2024)\n",
    "\n",
    "# Create an empty list to store the data\n",
    "data_list = []\n",
    "\n",
    "for year in years:\n",
    "    # Make the API request\n",
    "    base_url = f'https://api.census.gov/data/{year}/{dataset}?get={get_vars}&for=place:*&in=state:{for_state}&key={api_key}'\n",
    "    response = requests.get(base_url)\n",
    "\n",
    "    if response.status_code == 200:\n",
    "        data = response.json()\n",
    "        # Add retrieved data to the list\n",
    "        for entry in data[1:]:  # Skip the header row\n",
    "            city_name = entry[0]\n",
    "            population = entry[1]\n",
    "            data_list.append({'City': city_name, 'Population': population, 'Year': year})\n",
    "    else:\n",
    "        print(f\"Failed to retrieve data for year {year}.\")\n",
    "\n",
    "# Create a DataFrame from the collected data\n",
    "population_data = pd.DataFrame(data_list)\n",
    "\n",
    "# Display the DataFrame\n",
    "print(population_data)"
   ]
  }
 ],
 "metadata": {
  "kernelspec": {
   "display_name": "Python 3 (ipykernel)",
   "language": "python",
   "name": "python3"
  },
  "language_info": {
   "codemirror_mode": {
    "name": "ipython",
    "version": 3
   },
   "file_extension": ".py",
   "mimetype": "text/x-python",
   "name": "python",
   "nbconvert_exporter": "python",
   "pygments_lexer": "ipython3",
   "version": "3.10.13"
  }
 },
 "nbformat": 4,
 "nbformat_minor": 5
}
